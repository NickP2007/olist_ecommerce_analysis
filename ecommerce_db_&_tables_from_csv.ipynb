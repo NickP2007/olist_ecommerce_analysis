{
 "cells": [
  {
   "cell_type": "code",
   "execution_count": null,
   "metadata": {},
   "outputs": [],
   "source": [
    "import csv\n",
    "import sqlite3\n",
    "import pandas as pd\n",
    "from pathlib import Path\n",
    "\n",
    "# create sqlite database with pathlib\n",
    "Path('brazilian_ecommerce.db').touch()\n",
    "\n",
    "# create a connection to the database \n",
    "conn = sqlite3.connect('brazilian_ecommerce.db')"
   ]
  },
  {
   "cell_type": "code",
   "execution_count": null,
   "metadata": {},
   "outputs": [],
   "source": [
    "# create a cursor for querying data\n",
    "c = conn.cursor()"
   ]
  },
  {
   "cell_type": "code",
   "execution_count": null,
   "metadata": {},
   "outputs": [],
   "source": [
    "# Run a query creating a sqlite table with columns correlating to csv file\n",
    "c.execute('''CREATE TABLE customers (customer_id, customer_unique_id, customer_zip_code_prefix, customer_city, customer_state\n",
    ")''')"
   ]
  },
  {
   "cell_type": "code",
   "execution_count": null,
   "metadata": {},
   "outputs": [],
   "source": [
    "# parse the csv data into a pandas dataframe\n",
    "customers = pd.read_csv('olist_customers_dataset.csv')\n",
    "\n",
    "# transfer dataframe to sqlite table created above\n",
    "customers.to_sql('customers', conn, if_exists='append', index = False)\n",
    "\n",
    "# execute a query to check the transfer\n",
    "c.execute('''SELECT * FROM customers''').fetchall()"
   ]
  },
  {
   "cell_type": "code",
   "execution_count": null,
   "metadata": {},
   "outputs": [],
   "source": [
    "c.execute('''CREATE TABLE geolocation (geolocation_zip_code_prefix, geolocation_lat, geolocation_lng, geolocation_city, geolocation_state\n",
    ")''')\n",
    "\n",
    "geolocation = pd.read_csv('olist_geolocation_dataset.csv')\n",
    "geolocation.to_sql('geolocation', conn, if_exists='append', index = False) "
   ]
  },
  {
   "cell_type": "code",
   "execution_count": null,
   "metadata": {},
   "outputs": [],
   "source": [
    "c.execute('''SELECT * FROM geolocation''').fetchall()"
   ]
  },
  {
   "cell_type": "code",
   "execution_count": null,
   "metadata": {},
   "outputs": [],
   "source": [
    "c.execute('''CREATE TABLE order_items (order_id, order_item_id, product_id, seller_id, shipping_limit_date, price, freight_value\n",
    ")''')\n",
    "\n",
    "order_items = pd.read_csv('olist_order_items_dataset.csv')\n",
    "order_items.to_sql('order_items', conn, if_exists='append', index = False) "
   ]
  },
  {
   "cell_type": "code",
   "execution_count": null,
   "metadata": {},
   "outputs": [],
   "source": [
    "c.execute('''SELECT * FROM order_items''').fetchall()"
   ]
  },
  {
   "cell_type": "code",
   "execution_count": null,
   "metadata": {},
   "outputs": [],
   "source": [
    "c.execute('''CREATE TABLE order_payments (order_id, payment_sequential, payment_type, payment_installments, payment_value\n",
    ")''')\n",
    "\n",
    "order_payments = pd.read_csv('olist_order_payments_dataset.csv')\n",
    "order_payments.to_sql('order_payments', conn, if_exists='append', index = False) "
   ]
  },
  {
   "cell_type": "code",
   "execution_count": null,
   "metadata": {},
   "outputs": [],
   "source": [
    "c.execute('''SELECT * FROM order_payments''').fetchall()"
   ]
  },
  {
   "cell_type": "code",
   "execution_count": null,
   "metadata": {},
   "outputs": [],
   "source": [
    "c.execute('''CREATE TABLE order_reviews (review_id, order_id, review_score, review_comment_title, review_comment_message, review_creation_date, review_answer_timestamp\n",
    ")''')\n",
    "\n",
    "order_reviews = pd.read_csv('olist_order_reviews_dataset.csv')\n",
    "order_reviews.to_sql('order_reviews', conn, if_exists='append', index = False) "
   ]
  },
  {
   "cell_type": "code",
   "execution_count": null,
   "metadata": {},
   "outputs": [],
   "source": [
    "c.execute('''SELECT * FROM order_reviews''').fetchall()"
   ]
  },
  {
   "cell_type": "code",
   "execution_count": null,
   "metadata": {},
   "outputs": [],
   "source": [
    "c.execute('''CREATE TABLE orders (order_id, customer_id, order_status, order_purchase_timestamp, order_approved_at, order_delivered_carrier_date, order_delivered_customer_date, order_estimated_delivery_date\n",
    ")''')\n",
    "\n",
    "orders = pd.read_csv('olist_orders_dataset.csv')\n",
    "orders.to_sql('orders', conn, if_exists='append', index = False) "
   ]
  },
  {
   "cell_type": "code",
   "execution_count": null,
   "metadata": {},
   "outputs": [],
   "source": [
    "c.execute('''SELECT * FROM orders''').fetchall()"
   ]
  },
  {
   "cell_type": "code",
   "execution_count": null,
   "metadata": {},
   "outputs": [],
   "source": [
    "c.execute('''CREATE TABLE products (product_id, product_category_name, product_name_lenght, product_description_lenght, product_photos_qty, product_weight_g, product_length_cm, product_height_cm, product_width_cm\n",
    ")''')\n",
    "\n",
    "products = pd.read_csv('olist_products_dataset.csv')\n",
    "products.to_sql('products', conn, if_exists='append', index = False) "
   ]
  },
  {
   "cell_type": "code",
   "execution_count": null,
   "metadata": {},
   "outputs": [],
   "source": [
    "c.execute('''SELECT * FROM products''').fetchall()"
   ]
  },
  {
   "cell_type": "code",
   "execution_count": null,
   "metadata": {},
   "outputs": [],
   "source": [
    "c.execute('''CREATE TABLE sellers (seller_id, seller_zip_code_prefix, seller_city, seller_state\n",
    ")''')\n",
    "\n",
    "sellers = pd.read_csv('olist_sellers_dataset.csv')\n",
    "sellers.to_sql('sellers', conn, if_exists='append', index = False) "
   ]
  },
  {
   "cell_type": "code",
   "execution_count": null,
   "metadata": {},
   "outputs": [],
   "source": [
    "c.execute('''SELECT * FROM sellers''').fetchall()"
   ]
  },
  {
   "cell_type": "code",
   "execution_count": null,
   "metadata": {},
   "outputs": [],
   "source": [
    "c.execute('''CREATE TABLE product_translations (product_category_name, product_category_name_english\n",
    ")''')\n",
    "\n",
    "translations = pd.read_csv('product_category_name_translation.csv')\n",
    "translations.to_sql('product_translations', conn, if_exists='append', index = False) "
   ]
  },
  {
   "cell_type": "code",
   "execution_count": null,
   "metadata": {},
   "outputs": [],
   "source": [
    "c.execute('''SELECT * FROM product_translations''').fetchall()"
   ]
  },
  {
   "cell_type": "code",
   "execution_count": null,
   "metadata": {},
   "outputs": [],
   "source": []
  },
  {
   "cell_type": "code",
   "execution_count": null,
   "metadata": {},
   "outputs": [],
   "source": []
  }
 ],
 "metadata": {
  "kernelspec": {
   "display_name": "Python 3",
   "language": "python",
   "name": "python3"
  },
  "language_info": {
   "codemirror_mode": {
    "name": "ipython",
    "version": 3
   },
   "file_extension": ".py",
   "mimetype": "text/x-python",
   "name": "python",
   "nbconvert_exporter": "python",
   "pygments_lexer": "ipython3",
   "version": "3.7.6"
  }
 },
 "nbformat": 4,
 "nbformat_minor": 4
}
